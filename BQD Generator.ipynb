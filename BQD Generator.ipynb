{
 "cells": [
  {
   "cell_type": "code",
   "execution_count": 1,
   "id": "9719d3e2",
   "metadata": {},
   "outputs": [],
   "source": [
    "import random\n",
    "import qrcode\n",
    "import barcode\n",
    "from barcode.writer import ImageWriter\n",
    "from PIL import Image"
   ]
  },
  {
   "cell_type": "code",
   "execution_count": null,
   "id": "22f7a3ee",
   "metadata": {},
   "outputs": [],
   "source": [
    "# Variables\n",
    "company_name = input(\"Enter Company name\")\n",
    "prefix = company_name[:2].upper()\n",
    "product = input(\"Product name\")\n",
    "specifications = input(\"Enter Specifications\")\n",
    "Type = input(\"Enter Product type\")\n",
    "integer = ''.join(random.choice(\"123456789\") for integer in range(3))\n",
    "model_no = [prefix+'-'+integer\n",
    "]\n",
    "\n",
    "#Function for serial number generator\n",
    "def serial_number_generator(start=1):\n",
    "    while True:\n",
    "        yield start\n",
    "        start += 1\n",
    "serial_gen = serial_number_generator()\n",
    "for _ in range(1):\n",
    "    serial_number = next(serial_gen)\n",
    "    \n",
    "# Dictationary for storing data\n",
    "df = {\n",
    "    \"Company Name: \":company_name,\n",
    "    \"Type: \":Type,\n",
    "    \"Product Name: \":product,\n",
    "    \"Model Number: \":model_no,\n",
    "    \"Serial Number: \":serial_number,\n",
    "    \"Specifications: \":specifications,\n",
    "}\n",
    "\n",
    "# Create a BAR code instance\n",
    "integers = ''.join(random.choice(\"123456789\") for integer in range(13))\n",
    "ean = barcode.get('ean13', integers, writer=ImageWriter())\n",
    "barcode_image = ean.save('barcode.png')\n",
    "\n",
    "# Create a QR code instance\n",
    "qr = qrcode.QRCode(\n",
    "    version=1,\n",
    "    error_correction=qrcode.constants.ERROR_CORRECT_H,\n",
    "    box_size=10,\n",
    "    border=4,\n",
    ")\n",
    "data = df\n",
    "qr.add_data(data)\n",
    "qr.make(fit=True)\n",
    "qr_image = qr.make_image(fill_color=\"yellow\", back_color=\"black\")\n",
    "qr_image.save(\"qrcode.png\")\n",
    "\n",
    "\n",
    "df"
   ]
  }
 ],
 "metadata": {
  "kernelspec": {
   "display_name": "Python 3 (ipykernel)",
   "language": "python",
   "name": "python3"
  },
  "language_info": {
   "codemirror_mode": {
    "name": "ipython",
    "version": 3
   },
   "file_extension": ".py",
   "mimetype": "text/x-python",
   "name": "python",
   "nbconvert_exporter": "python",
   "pygments_lexer": "ipython3",
   "version": "3.10.9"
  }
 },
 "nbformat": 4,
 "nbformat_minor": 5
}
